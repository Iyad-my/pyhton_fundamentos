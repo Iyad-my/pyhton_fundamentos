{
 "cells": [
  {
   "cell_type": "code",
   "execution_count": 1,
   "metadata": {},
   "outputs": [
    {
     "name": "stdout",
     "output_type": "stream",
     "text": [
      "hola\n"
     ]
    }
   ],
   "source": [
    "print(\"hola\")\n"
   ]
  },
  {
   "cell_type": "markdown",
   "metadata": {},
   "source": [
    "### Fundamentos de python \n",
    "* Variables \n",
    "* Operadores matematicos\n",
    "* Operadores de comparacion\n",
    "* Estructuras de control\n",
    "    - Condicionales simples\n",
    "    - Condicionales encadenados\n",
    "    - Circulos finitos\n",
    "    - Circulos infinitos\n",
    "    \n",
    "* Funciones\n",
    "* Estructuras de datos\n",
    "    - Cadenas de caracteres\n",
    "    - Listas\n",
    "    - Tuplas \n",
    "    - Diccionarios\n",
    "    "
   ]
  },
  {
   "cell_type": "markdown",
   "metadata": {},
   "source": [
    "# Variables"
   ]
  },
  {
   "cell_type": "code",
   "execution_count": 2,
   "metadata": {},
   "outputs": [],
   "source": [
    "name = \"josefino\"\n",
    "name "
   ]
  },
  {
   "cell_type": "code",
   "execution_count": 3,
   "metadata": {},
   "outputs": [],
   "source": [
    "lastname = \"primero\""
   ]
  },
  {
   "cell_type": "code",
   "execution_count": 4,
   "metadata": {},
   "outputs": [],
   "source": [
    "last_name = \"primero\""
   ]
  },
  {
   "cell_type": "code",
   "execution_count": 7,
   "metadata": {},
   "outputs": [
    {
     "data": {
      "text/plain": [
       "230"
      ]
     },
     "execution_count": 7,
     "metadata": {},
     "output_type": "execute_result"
    }
   ],
   "source": [
    "base = 23\n",
    "height = 10\n",
    "area = base * height\n",
    "area"
   ]
  },
  {
   "cell_type": "code",
   "execution_count": 13,
   "metadata": {},
   "outputs": [
    {
     "name": "stdout",
     "output_type": "stream",
     "text": [
      "area: 230\n",
      "apellido: primero\n",
      "base del triangulo 23\n"
     ]
    }
   ],
   "source": [
    "print(\"area:\", area)\n",
    "print(\"apellido:\", last_name)\n",
    "print(\"base del triangulo\", base)"
   ]
  },
  {
   "cell_type": "markdown",
   "metadata": {},
   "source": [
    "### Operadores matematicos basicos"
   ]
  },
  {
   "cell_type": "code",
   "execution_count": 16,
   "metadata": {},
   "outputs": [
    {
     "name": "stdout",
     "output_type": "stream",
     "text": [
      "El resultado es: 30\n"
     ]
    }
   ],
   "source": [
    "# suma\n",
    "number_1 = 10\n",
    "number_2 = 20\n",
    "result = number_1 + number_2\n",
    "result\n",
    "print(\"El resultado es:\", result)"
   ]
  },
  {
   "cell_type": "code",
   "execution_count": 18,
   "metadata": {},
   "outputs": [
    {
     "name": "stdout",
     "output_type": "stream",
     "text": [
      "El resta es: -10\n"
     ]
    }
   ],
   "source": [
    "# resta\n",
    "number_1 = 10\n",
    "number_2 = 20\n",
    "result = number_1 - number_2\n",
    "result\n",
    "print(\"La resta es:\", result)"
   ]
  },
  {
   "cell_type": "code",
   "execution_count": 17,
   "metadata": {},
   "outputs": [
    {
     "name": "stdout",
     "output_type": "stream",
     "text": [
      "El resta es: 200\n"
     ]
    }
   ],
   "source": [
    "# multiplicacion\n",
    "number_1 = 10\n",
    "number_2 = 20\n",
    "result = number_1 * number_2\n",
    "result\n",
    "print(\"La multiplicacion es:\", result)"
   ]
  },
  {
   "cell_type": "code",
   "execution_count": 20,
   "metadata": {},
   "outputs": [
    {
     "name": "stdout",
     "output_type": "stream",
     "text": [
      "La division es: 0.5\n"
     ]
    }
   ],
   "source": [
    "# division\n",
    "number_1 = 10\n",
    "number_2 = 20\n",
    "result = number_1 / number_2\n",
    "result\n",
    "print(\"La division es:\", result)"
   ]
  },
  {
   "cell_type": "code",
   "execution_count": 22,
   "metadata": {},
   "outputs": [
    {
     "name": "stdout",
     "output_type": "stream",
     "text": [
      "<class 'str'>\n",
      "<class 'int'>\n",
      "<class 'float'>\n"
     ]
    }
   ],
   "source": [
    "print( type(last_name))\n",
    "print( type(number_1))\n",
    "print( type(result))"
   ]
  },
  {
   "cell_type": "markdown",
   "metadata": {},
   "source": [
    "Estructura de control\n"
   ]
  },
  {
   "cell_type": "code",
   "execution_count": 1,
   "metadata": {},
   "outputs": [],
   "source": [
    "name1 = \"pablo\"\n",
    "age = 16\n"
   ]
  },
  {
   "cell_type": "code",
   "execution_count": null,
   "metadata": {},
   "outputs": [],
   "source": [
    "# if condicion:\n",
    "#  print (\"saludos\")"
   ]
  },
  {
   "cell_type": "code",
   "execution_count": 2,
   "metadata": {},
   "outputs": [
    {
     "name": "stdout",
     "output_type": "stream",
     "text": [
      "puedes pasar\n"
     ]
    }
   ],
   "source": [
    "# condicional simple\n",
    "if (age > 15):\n",
    "   print(\"puedes pasar\")"
   ]
  },
  {
   "cell_type": "code",
   "execution_count": null,
   "metadata": {},
   "outputs": [],
   "source": [
    "# operaores de comparacion \n",
    "# mayor que >\n",
    "# menor que <\n",
    "# mayor igual >=\n",
    "# menor igual <=\n",
    "# igual? ==\n",
    "# diferente? !=\n"
   ]
  },
  {
   "cell_type": "code",
   "execution_count": null,
   "metadata": {},
   "outputs": [],
   "source": [
    "# Operadores logicos \n",
    "# and\n",
    "# or\n",
    "# not "
   ]
  },
  {
   "cell_type": "code",
   "execution_count": 12,
   "metadata": {},
   "outputs": [
    {
     "name": "stdout",
     "output_type": "stream",
     "text": [
      "puedes pasar josefino\n"
     ]
    }
   ],
   "source": [
    "# condicional simple\n",
    "name1 = input(\"ingrese su nombre: \")\n",
    "age = int(input(\"ingrese su edad: \"))\n",
    "day = input(\"Ingrese dia de la semana: \")\n",
    "#age = int(age)\n",
    "#age = float(age)\n",
    "\n",
    "if (age > 15):\n",
    "   if day == \"sabado\":\n",
    "      print(\"puedes pasar\", name1)"
   ]
  },
  {
   "cell_type": "code",
   "execution_count": 17,
   "metadata": {},
   "outputs": [],
   "source": [
    "# condicional simple\n",
    "name1 = input(\"ingrese su nombre: \")\n",
    "age = int(input(\"ingrese su edad: \"))\n",
    "day = input(\"Ingrese dia de la semana: \")\n",
    "#age = int(age)\n",
    "#age = float(age)\n",
    "\n",
    "if (age > 15) and (day == \"sabado\"):\n",
    "      print(\"puedes pasar\", name1)"
   ]
  },
  {
   "cell_type": "code",
   "execution_count": 21,
   "metadata": {},
   "outputs": [
    {
     "name": "stdout",
     "output_type": "stream",
     "text": [
      "puedes pasar jose \n"
     ]
    }
   ],
   "source": [
    "# condicional simple\n",
    "name1 = input(\"ingrese su nombre: \")\n",
    "age = int(input(\"ingrese su edad: \"))\n",
    "day = input(\"Ingrese dia de la semana: \")\n",
    "#age = int(age)\n",
    "#age = float(age)\n",
    "\n",
    "if (age > 15) and (day == \"sabado\") or (day == \"viernes\"):\n",
    "      print(\"puedes pasar\", name1)"
   ]
  },
  {
   "cell_type": "code",
   "execution_count": 20,
   "metadata": {},
   "outputs": [],
   "source": [
    "# condicional simple\n",
    "name1 = input(\"ingrese su nombre: \")\n",
    "age = int(input(\"ingrese su edad: \"))\n",
    "day = input(\"Ingrese dia de la semana: \")\n",
    "#age = int(age)\n",
    "#age = float(age)\n",
    "\n",
    "if (age > 15) and (day == \"sabado\" or \"viernes\"):\n",
    "      print(\"puedes pasar\", name1)"
   ]
  },
  {
   "cell_type": "code",
   "execution_count": 24,
   "metadata": {},
   "outputs": [
    {
     "name": "stdout",
     "output_type": "stream",
     "text": [
      "puedes pasar jose 21 \n"
     ]
    }
   ],
   "source": [
    "# condicional simple\n",
    "name1 = input(\"ingrese su nombre: \")\n",
    "age = int(input(\"ingrese su edad: \"))\n",
    "day = input(\"Ingrese dia de la semana: \")\n",
    "#age = int(age)\n",
    "#age = float(age)\n",
    "\n",
    "if (age > 15):\n",
    "     if (day == \"sabado\") or (day == \"viernes\"):\n",
    "        print(\"puedes pasar\", name1)"
   ]
  },
  {
   "cell_type": "code",
   "execution_count": 26,
   "metadata": {},
   "outputs": [
    {
     "name": "stdout",
     "output_type": "stream",
     "text": [
      "No puedes pasar jose \n"
     ]
    }
   ],
   "source": [
    "# condicional simple\n",
    "name1 = input(\"ingrese su nombre: \")\n",
    "age = int(input(\"ingrese su edad: \"))\n",
    "day = input(\"Ingrese dia de la semana: \")\n",
    "#age = int(age)\n",
    "#age = float(age)\n",
    "\n",
    "if (age > 15):\n",
    "    print(\"puedes pasar\", name1)\n",
    "else:\n",
    "    print(\"No puedes pasar\", name1)\n",
    "    #  if (day == \"sabado\") or (day == \"viernes\"):\n",
    "    #     print(\"puedes pasar\", name1)"
   ]
  },
  {
   "cell_type": "code",
   "execution_count": 29,
   "metadata": {},
   "outputs": [
    {
     "name": "stdout",
     "output_type": "stream",
     "text": [
      "no es sabado ni viernes\n"
     ]
    }
   ],
   "source": [
    "# condicional simple\n",
    "name1 = input(\"ingrese su nombre: \")\n",
    "age = int(input(\"ingrese su edad: \"))\n",
    "day = input(\"Ingrese dia de la semana: \")\n",
    "#age = int(age)\n",
    "#age = float(age)\n",
    "\n",
    "if (age > 15):\n",
    "     if (day == \"sabado\") or (day == \"viernes\"):\n",
    "        print(\"puedes pasar\", name1)\n",
    "     else:\n",
    "        print(\"no es sabado ni viernes\")\n",
    "else:\n",
    "    print(\"menor de 15\")"
   ]
  },
  {
   "cell_type": "code",
   "execution_count": 30,
   "metadata": {},
   "outputs": [
    {
     "name": "stdout",
     "output_type": "stream",
     "text": [
      "menor de 15\n"
     ]
    }
   ],
   "source": [
    "# condicional simple\n",
    "name1 = input(\"ingrese su nombre: \")\n",
    "age = int(input(\"ingrese su edad: \"))\n",
    "day = input(\"Ingrese dia de la semana: \")\n",
    "#age = int(age)\n",
    "#age = float(age)\n",
    "\n",
    "if (age > 15):\n",
    "     day= input(\"Ingrese dia de la semana\")\n",
    "\n",
    "     if (day == \"sabado\") or (day == \"viernes\"):\n",
    "        print(\"puedes pasar\", name1)\n",
    "     else:\n",
    "        print(\"no es sabado ni viernes\")\n",
    "else:\n",
    "    print(\"menor de 15\")"
   ]
  },
  {
   "cell_type": "markdown",
   "metadata": {},
   "source": [
    "### Condicionales encadenados"
   ]
  },
  {
   "cell_type": "code",
   "execution_count": 40,
   "metadata": {},
   "outputs": [
    {
     "name": "stdout",
     "output_type": "stream",
     "text": [
      "Fin de semana\n"
     ]
    }
   ],
   "source": [
    "day = input(\"Ingrese dia de la semana: \")\n",
    "\n",
    "if day == \"lunes\":\n",
    "    print(\"Voy al cine\")\n",
    "\n",
    "elif day == \"martes\":\n",
    "        print(\"voy al gym\")\n",
    "\n",
    "elif day == \"miercoles\":\n",
    "        print(\"voy al mercaado\")\n",
    "\n",
    "elif day == \"jueves\":\n",
    "        print(\"voy al padel\")\n",
    "\n",
    "elif day == \"viernes\":\n",
    "        print(\"voy de farra\")\n",
    "\n",
    "else: \n",
    "    print(\"Fin de semana\")"
   ]
  },
  {
   "cell_type": "markdown",
   "metadata": {},
   "source": [
    "### Ciclos finitos -> for"
   ]
  }
 ],
 "metadata": {
  "kernelspec": {
   "display_name": "Python 3",
   "language": "python",
   "name": "python3"
  },
  "language_info": {
   "codemirror_mode": {
    "name": "ipython",
    "version": 3
   },
   "file_extension": ".py",
   "mimetype": "text/x-python",
   "name": "python",
   "nbconvert_exporter": "python",
   "pygments_lexer": "ipython3",
   "version": "3.12.4"
  }
 },
 "nbformat": 4,
 "nbformat_minor": 2
}
